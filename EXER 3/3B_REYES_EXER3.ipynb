{
  "nbformat": 4,
  "nbformat_minor": 0,
  "metadata": {
    "colab": {
      "provenance": []
    },
    "kernelspec": {
      "name": "python3",
      "display_name": "Python 3"
    },
    "language_info": {
      "name": "python"
    }
  },
  "cells": [
    {
      "cell_type": "markdown",
      "source": [
        "\n",
        "\n",
        "# **Laboratory Exercise 3: Develop a Real-World AI Application Using Probability Theory.**\n",
        "\n",
        "\n",
        "### Name: Vanesse V. Reyes\n",
        "### Section: BSCS - 3BIS\n",
        "### Course: CCST 101 | Advance Presentation Reasoning\n",
        "### Topic 1.2: Logic Based Presentation\n"
      ],
      "metadata": {
        "id": "eY8zGCXCDfPe"
      }
    },
    {
      "cell_type": "markdown",
      "source": [
        "# **Part 1: Defining the Problem and System Design**\n",
        "\n",
        "#**Contributing Factors:**\n",
        "#**Disease: Diabetes**\n",
        "\n",
        "1. Age: As indvidual age rises, they have more risk for potential type 2 diabetes\n",
        "2. Pre - Existing Condition: Obsesity and Cardiovascular diseases is at higher risk of diabetes\n",
        "3. Immune System - Inflammation and impared function can weaken immune system causing a higher chance of diabetes\n",
        "4. Lifestyle - Diet and Pysical Inactivity, including high consumption of sweets and proceed food can cause a type 2 diabetes\n",
        "5. Environmental Factors - Socioeconomic Status and Urbanization can cause a diabetes, this can cause a limited healthcare access.\n"
      ],
      "metadata": {
        "id": "j7NhLcWtEoLs"
      }
    },
    {
      "cell_type": "markdown",
      "source": [
        "#**Part 2: Basic Probability Function**\n",
        "\n",
        "# - **Naive Bayes' Theorem**\n",
        "\n",
        "$$\n",
        "P(Disease|Positive) = \\frac{P(Positive|Disease) \\times P(Disease) } {P(Positive)}\n",
        "$$\n",
        "\n",
        "- $P(\\text {Positive Test | Diabetes}) = 0.95 $\n",
        "- $P(\\text {Negative Test | Diabetes}) = 0.05 $\n",
        "- $\\text {prevelance} P(\\text{Diabetes}) = 0.01$\n",
        "- $P(\\text {Positive Test | Diabetes}) = 0.95 $\n",
        "\n"
      ],
      "metadata": {
        "id": "12mpkyoKKffQ"
      }
    },
    {
      "cell_type": "code",
      "source": [
        "#@title #**Part 2: Implementation**\n",
        "\n",
        "# Import necessary libraries\n",
        "import numpy as np\n",
        "\n",
        "# Define probabilities\n",
        "P_D = 0.1\n",
        "P_T_given_D = 0.9\n",
        "P_T_given_not_D = 0.05\n",
        "\n",
        "# Calculate P(T)\n",
        "P_not_D = 1 - P_D\n",
        "P_T = (P_T_given_D * P_D) + (P_T_given_not_D * P_not_D)\n",
        "\n",
        "# Calculate posterior probability using Bayes' theorem\n",
        "P_D_given_T = (P_T_given_D * P_D) / P_T\n",
        "\n",
        "print(f\"Posterior Probability of having Diabetes given a positive test result: {P_D_given_T:.2f}\")"
      ],
      "metadata": {
        "colab": {
          "base_uri": "https://localhost:8080/"
        },
        "id": "O09OQqrPc4-r",
        "outputId": "404e1322-b66f-4f83-8a91-65baee8d176a"
      },
      "execution_count": null,
      "outputs": [
        {
          "output_type": "stream",
          "name": "stdout",
          "text": [
            "Posterior Probability of having Diabetes given a positive test result: 0.67\n"
          ]
        }
      ]
    },
    {
      "cell_type": "markdown",
      "source": [
        "# **Part 3: Decision Making Simulation**\n",
        "\n",
        "- We will calculate poesible health imporvement base on data\n",
        "- We will calculate patient health improvement in Diabetes\n",
        "\n",
        "# **Using:**\n",
        "\n",
        "- Expected Health Improvement = P(success) x benefit + P(failure) x loss\n",
        "\n"
      ],
      "metadata": {
        "id": "F1-P5QB_efMY"
      }
    },
    {
      "cell_type": "code",
      "source": [
        "# Define probabilities and values for decision making\n",
        "P_success = 0.8\n",
        "benefit = 10\n",
        "loss = -5\n",
        "\n",
        "# Calculate expected health improvement\n",
        "expected_health_improvement = (P_success * benefit) + ((1 - P_success) * loss)\n",
        "\n",
        "print(f\"Expected Health Improvement from Treatment: {expected_health_improvement:.2f} units\")\n",
        "\n",
        "\n"
      ],
      "metadata": {
        "colab": {
          "base_uri": "https://localhost:8080/"
        },
        "id": "BMue6A2tdrJ9",
        "outputId": "f8f60e53-91a2-400c-a337-1f300a16e7a3"
      },
      "execution_count": null,
      "outputs": [
        {
          "output_type": "stream",
          "name": "stdout",
          "text": [
            "Expected Health Improvement from Treatment: 7.00 units\n"
          ]
        }
      ]
    },
    {
      "cell_type": "markdown",
      "source": [
        "# **Part 4: Visualize a Probability Distrubution**\n",
        "\n",
        "- We will visualize a probability distribution\n",
        "- We will use 50% chance probability\n",
        "\n",
        "# **Using:**\n",
        "\n",
        "- n = number of trials\n",
        "- p = the probability of success\n",
        "\n",
        "\n"
      ],
      "metadata": {
        "id": "Jy8r5-1nfhKw"
      }
    },
    {
      "cell_type": "code",
      "source": [
        "import numpy as np\n",
        "import matplotlib.pyplot as plt\n",
        "from scipy.stats import binom\n",
        "\n",
        "# Define parameters\n",
        "n = 100  # Total number of individuals\n",
        "p = 0.116  # Probability of having diabetes\n",
        "\n",
        "# Calculate probabilities for k from 0 to 20\n",
        "k_values = np.arange(0, 21)\n",
        "probabilities = binom.pmf(k_values, n, p)\n",
        "\n",
        "# Create the bar chart for visualization\n",
        "plt.figure(figsize=(12, 6))\n",
        "plt.bar(k_values, probabilities, color='lightcoral', alpha=0.7)\n",
        "plt.title('Probability Distribution of Having Diabetes in a Sample of 100 Individuals')\n",
        "plt.xlabel('Number of Individuals with Diabetes')\n",
        "plt.ylabel('Probability')\n",
        "plt.xticks(k_values)\n",
        "plt.grid(axis='y')\n",
        "\n",
        "# Show the plot\n",
        "plt.show()"
      ],
      "metadata": {
        "colab": {
          "base_uri": "https://localhost:8080/",
          "height": 564
        },
        "id": "eaR7g8Qsg2K6",
        "outputId": "f5e02290-5a33-46cb-e79f-ab27fdc53ad1"
      },
      "execution_count": null,
      "outputs": [
        {
          "output_type": "display_data",
          "data": {
            "text/plain": [
              "<Figure size 1200x600 with 1 Axes>"
            ],
            "image/png": "[encoded data removed]"
          },
          "metadata": {}
        }
      ]
    },
    {
      "cell_type": "markdown",
      "source": [
        "  # **Part 5: Reflection**\n",
        "\n",
        "On this part, we observe data, we reflect and analyze statistical method. Learning through statistic of diabetes and gives an importance for improvement of healthcare in the country.\n",
        "\n",
        "- Visualization of Model are discussed and shown on the Binomial Distribution\n",
        "- We show, a probabolity or prediction of individuals for possible type 2 diabetes\n",
        "- Connecting Ideas we show, different data scenerio by computing the naive bayes'like possible, unhealty lifestyle for high probality of correct.\n",
        "\n",
        "\n",
        "In conclusion, computing, predicting possible outcomes (diabetic or non diabetic) can impact high improvement on healthcare sectors.\n",
        "\n",
        "\n"
      ],
      "metadata": {
        "id": "L4HvgZIbhT5r"
      }
    }
  ]
}