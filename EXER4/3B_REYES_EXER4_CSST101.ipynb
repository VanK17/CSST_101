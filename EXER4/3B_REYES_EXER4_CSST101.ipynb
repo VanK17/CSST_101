{
  "nbformat": 4,
  "nbformat_minor": 0,
  "metadata": {
    "colab": {
      "provenance": []
    },
    "kernelspec": {
      "name": "python3",
      "display_name": "Python 3"
    },
    "language_info": {
      "name": "python"
    }
  },
  "cells": [
    {
      "cell_type": "code",
      "source": [
        "!pip install pgmpy"
      ],
      "metadata": {
        "colab": {
          "base_uri": "https://localhost:8080/"
        },
        "id": "Gild6JuJPMwj",
        "outputId": "a88acbea-cbd4-4c4d-a770-6a334057f347"
      },
      "execution_count": 2,
      "outputs": [
        {
          "output_type": "stream",
          "name": "stdout",
          "text": [
            "Collecting pgmpy\n",
            "  Downloading pgmpy-0.1.26-py3-none-any.whl.metadata (9.1 kB)\n",
            "Requirement already satisfied: networkx in /usr/local/lib/python3.10/dist-packages (from pgmpy) (3.4.2)\n",
            "Requirement already satisfied: numpy in /usr/local/lib/python3.10/dist-packages (from pgmpy) (1.26.4)\n",
            "Requirement already satisfied: scipy in /usr/local/lib/python3.10/dist-packages (from pgmpy) (1.13.1)\n",
            "Requirement already satisfied: scikit-learn in /usr/local/lib/python3.10/dist-packages (from pgmpy) (1.6.0)\n",
            "Requirement already satisfied: pandas in /usr/local/lib/python3.10/dist-packages (from pgmpy) (2.2.2)\n",
            "Requirement already satisfied: pyparsing in /usr/local/lib/python3.10/dist-packages (from pgmpy) (3.2.1)\n",
            "Requirement already satisfied: torch in /usr/local/lib/python3.10/dist-packages (from pgmpy) (2.5.1+cu121)\n",
            "Requirement already satisfied: statsmodels in /usr/local/lib/python3.10/dist-packages (from pgmpy) (0.14.4)\n",
            "Requirement already satisfied: tqdm in /usr/local/lib/python3.10/dist-packages (from pgmpy) (4.67.1)\n",
            "Requirement already satisfied: joblib in /usr/local/lib/python3.10/dist-packages (from pgmpy) (1.4.2)\n",
            "Requirement already satisfied: opt-einsum in /usr/local/lib/python3.10/dist-packages (from pgmpy) (3.4.0)\n",
            "Requirement already satisfied: xgboost in /usr/local/lib/python3.10/dist-packages (from pgmpy) (2.1.3)\n",
            "Requirement already satisfied: google-generativeai in /usr/local/lib/python3.10/dist-packages (from pgmpy) (0.8.3)\n",
            "Requirement already satisfied: google-ai-generativelanguage==0.6.10 in /usr/local/lib/python3.10/dist-packages (from google-generativeai->pgmpy) (0.6.10)\n",
            "Requirement already satisfied: google-api-core in /usr/local/lib/python3.10/dist-packages (from google-generativeai->pgmpy) (2.19.2)\n",
            "Requirement already satisfied: google-api-python-client in /usr/local/lib/python3.10/dist-packages (from google-generativeai->pgmpy) (2.155.0)\n",
            "Requirement already satisfied: google-auth>=2.15.0 in /usr/local/lib/python3.10/dist-packages (from google-generativeai->pgmpy) (2.27.0)\n",
            "Requirement already satisfied: protobuf in /usr/local/lib/python3.10/dist-packages (from google-generativeai->pgmpy) (4.25.5)\n",
            "Requirement already satisfied: pydantic in /usr/local/lib/python3.10/dist-packages (from google-generativeai->pgmpy) (2.10.4)\n",
            "Requirement already satisfied: typing-extensions in /usr/local/lib/python3.10/dist-packages (from google-generativeai->pgmpy) (4.12.2)\n",
            "Requirement already satisfied: proto-plus<2.0.0dev,>=1.22.3 in /usr/local/lib/python3.10/dist-packages (from google-ai-generativelanguage==0.6.10->google-generativeai->pgmpy) (1.25.0)\n",
            "Requirement already satisfied: python-dateutil>=2.8.2 in /usr/local/lib/python3.10/dist-packages (from pandas->pgmpy) (2.8.2)\n",
            "Requirement already satisfied: pytz>=2020.1 in /usr/local/lib/python3.10/dist-packages (from pandas->pgmpy) (2024.2)\n",
            "Requirement already satisfied: tzdata>=2022.7 in /usr/local/lib/python3.10/dist-packages (from pandas->pgmpy) (2024.2)\n",
            "Requirement already satisfied: threadpoolctl>=3.1.0 in /usr/local/lib/python3.10/dist-packages (from scikit-learn->pgmpy) (3.5.0)\n",
            "Requirement already satisfied: patsy>=0.5.6 in /usr/local/lib/python3.10/dist-packages (from statsmodels->pgmpy) (1.0.1)\n",
            "Requirement already satisfied: packaging>=21.3 in /usr/local/lib/python3.10/dist-packages (from statsmodels->pgmpy) (24.2)\n",
            "Requirement already satisfied: filelock in /usr/local/lib/python3.10/dist-packages (from torch->pgmpy) (3.16.1)\n",
            "Requirement already satisfied: jinja2 in /usr/local/lib/python3.10/dist-packages (from torch->pgmpy) (3.1.5)\n",
            "Requirement already satisfied: fsspec in /usr/local/lib/python3.10/dist-packages (from torch->pgmpy) (2024.10.0)\n",
            "Requirement already satisfied: sympy==1.13.1 in /usr/local/lib/python3.10/dist-packages (from torch->pgmpy) (1.13.1)\n",
            "Requirement already satisfied: mpmath<1.4,>=1.1.0 in /usr/local/lib/python3.10/dist-packages (from sympy==1.13.1->torch->pgmpy) (1.3.0)\n",
            "Requirement already satisfied: nvidia-nccl-cu12 in /usr/local/lib/python3.10/dist-packages (from xgboost->pgmpy) (2.24.3)\n",
            "Requirement already satisfied: googleapis-common-protos<2.0.dev0,>=1.56.2 in /usr/local/lib/python3.10/dist-packages (from google-api-core->google-generativeai->pgmpy) (1.66.0)\n",
            "Requirement already satisfied: requests<3.0.0.dev0,>=2.18.0 in /usr/local/lib/python3.10/dist-packages (from google-api-core->google-generativeai->pgmpy) (2.32.3)\n",
            "Requirement already satisfied: cachetools<6.0,>=2.0.0 in /usr/local/lib/python3.10/dist-packages (from google-auth>=2.15.0->google-generativeai->pgmpy) (5.5.0)\n",
            "Requirement already satisfied: pyasn1-modules>=0.2.1 in /usr/local/lib/python3.10/dist-packages (from google-auth>=2.15.0->google-generativeai->pgmpy) (0.4.1)\n",
            "Requirement already satisfied: rsa<5,>=3.1.4 in /usr/local/lib/python3.10/dist-packages (from google-auth>=2.15.0->google-generativeai->pgmpy) (4.9)\n",
            "Requirement already satisfied: six>=1.5 in /usr/local/lib/python3.10/dist-packages (from python-dateutil>=2.8.2->pandas->pgmpy) (1.17.0)\n",
            "Requirement already satisfied: httplib2<1.dev0,>=0.19.0 in /usr/local/lib/python3.10/dist-packages (from google-api-python-client->google-generativeai->pgmpy) (0.22.0)\n",
            "Requirement already satisfied: google-auth-httplib2<1.0.0,>=0.2.0 in /usr/local/lib/python3.10/dist-packages (from google-api-python-client->google-generativeai->pgmpy) (0.2.0)\n",
            "Requirement already satisfied: uritemplate<5,>=3.0.1 in /usr/local/lib/python3.10/dist-packages (from google-api-python-client->google-generativeai->pgmpy) (4.1.1)\n",
            "Requirement already satisfied: MarkupSafe>=2.0 in /usr/local/lib/python3.10/dist-packages (from jinja2->torch->pgmpy) (3.0.2)\n",
            "Requirement already satisfied: annotated-types>=0.6.0 in /usr/local/lib/python3.10/dist-packages (from pydantic->google-generativeai->pgmpy) (0.7.0)\n",
            "Requirement already satisfied: pydantic-core==2.27.2 in /usr/local/lib/python3.10/dist-packages (from pydantic->google-generativeai->pgmpy) (2.27.2)\n",
            "Requirement already satisfied: grpcio<2.0dev,>=1.33.2 in /usr/local/lib/python3.10/dist-packages (from google-api-core[grpc]!=2.0.*,!=2.1.*,!=2.10.*,!=2.2.*,!=2.3.*,!=2.4.*,!=2.5.*,!=2.6.*,!=2.7.*,!=2.8.*,!=2.9.*,<3.0.0dev,>=1.34.1->google-ai-generativelanguage==0.6.10->google-generativeai->pgmpy) (1.69.0)\n",
            "Requirement already satisfied: grpcio-status<2.0.dev0,>=1.33.2 in /usr/local/lib/python3.10/dist-packages (from google-api-core[grpc]!=2.0.*,!=2.1.*,!=2.10.*,!=2.2.*,!=2.3.*,!=2.4.*,!=2.5.*,!=2.6.*,!=2.7.*,!=2.8.*,!=2.9.*,<3.0.0dev,>=1.34.1->google-ai-generativelanguage==0.6.10->google-generativeai->pgmpy) (1.62.3)\n",
            "Requirement already satisfied: pyasn1<0.7.0,>=0.4.6 in /usr/local/lib/python3.10/dist-packages (from pyasn1-modules>=0.2.1->google-auth>=2.15.0->google-generativeai->pgmpy) (0.6.1)\n",
            "Requirement already satisfied: charset-normalizer<4,>=2 in /usr/local/lib/python3.10/dist-packages (from requests<3.0.0.dev0,>=2.18.0->google-api-core->google-generativeai->pgmpy) (3.4.1)\n",
            "Requirement already satisfied: idna<4,>=2.5 in /usr/local/lib/python3.10/dist-packages (from requests<3.0.0.dev0,>=2.18.0->google-api-core->google-generativeai->pgmpy) (3.10)\n",
            "Requirement already satisfied: urllib3<3,>=1.21.1 in /usr/local/lib/python3.10/dist-packages (from requests<3.0.0.dev0,>=2.18.0->google-api-core->google-generativeai->pgmpy) (2.3.0)\n",
            "Requirement already satisfied: certifi>=2017.4.17 in /usr/local/lib/python3.10/dist-packages (from requests<3.0.0.dev0,>=2.18.0->google-api-core->google-generativeai->pgmpy) (2024.12.14)\n",
            "Downloading pgmpy-0.1.26-py3-none-any.whl (2.0 MB)\n",
            "\u001b[2K   \u001b[90m━━━━━━━━━━━━━━━━━━━━━━━━━━━━━━━━━━━━━━━━\u001b[0m \u001b[32m2.0/2.0 MB\u001b[0m \u001b[31m20.2 MB/s\u001b[0m eta \u001b[36m0:00:00\u001b[0m\n",
            "\u001b[?25hInstalling collected packages: pgmpy\n",
            "Successfully installed pgmpy-0.1.26\n"
          ]
        }
      ]
    },
    {
      "cell_type": "code",
      "execution_count": 3,
      "metadata": {
        "colab": {
          "base_uri": "https://localhost:8080/"
        },
        "id": "NjLDrXwxOvLc",
        "outputId": "eb5260bd-0ebe-4cae-a71c-e13a8be59c69"
      },
      "outputs": [
        {
          "output_type": "stream",
          "name": "stdout",
          "text": [
            "pgmpy installed successfully!\n"
          ]
        }
      ],
      "source": [
        "from random import choices\n",
        "from collections import Counter\n",
        "import matplotlib.pyplot as plt\n",
        "import numpy as np\n",
        "import pandas as pd\n",
        "from pgmpy.models import BayesianNetwork\n",
        "from pgmpy.factors.discrete import TabularCPD\n",
        "from pgmpy.inference import VariableElimination\n",
        "from pgmpy.estimators import MaximumLikelihoodEstimator\n",
        "import networkx as nx\n",
        "\n",
        "# Step 1: Install and verify required library\n",
        "try:\n",
        "    import pgmpy\n",
        "    print(\"pgmpy installed successfully!\")\n",
        "except ImportError:\n",
        "    print(\"pgmpy is not installed. Install using 'pip install pgmpy'.\")\n",
        "    raise"
      ]
    },
    {
      "cell_type": "code",
      "source": [
        "# Step 2: Define the Bayesian Network\n",
        "bn_model = BayesianNetwork([\n",
        "    ('Weather', 'Traffic'),\n",
        "    ('Traffic', 'Punctuality')\n",
        "])\n",
        "\n",
        "print(\"Bayesian Network initialized:\", bn_model.edges())"
      ],
      "metadata": {
        "colab": {
          "base_uri": "https://localhost:8080/"
        },
        "id": "FXE1KrfqOykm",
        "outputId": "cb111faa-c27a-45e7-c23e-03c9a6282d6a"
      },
      "execution_count": 4,
      "outputs": [
        {
          "output_type": "stream",
          "name": "stdout",
          "text": [
            "Bayesian Network initialized: [('Weather', 'Traffic'), ('Traffic', 'Punctuality')]\n"
          ]
        }
      ]
    },
    {
      "cell_type": "code",
      "source": [
        "# Step 3: Define CPDs\n",
        "cpd_weather = TabularCPD(variable='Weather', variable_card=2, values=[[0.7], [0.3]],\n",
        "                         state_names={'Weather': ['Sunny', 'Rainy']})\n",
        "cpd_traffic = TabularCPD(variable='Traffic', variable_card=2, values=[[0.75, 0.2], [0.25, 0.8]],\n",
        "                         evidence=['Weather'], evidence_card=[2],\n",
        "                         state_names={'Traffic': ['Light', 'Heavy'], 'Weather': ['Sunny', 'Rainy']})\n",
        "cpd_punctuality = TabularCPD(variable='Punctuality', variable_card=2,\n",
        "                             values=[[0.9, 0.4], [0.1, 0.6]],\n",
        "                             evidence=['Traffic'], evidence_card=[2],\n",
        "                             state_names={'Punctuality': ['On Time', 'Late'],\n",
        "                                          'Traffic': ['Light', 'Heavy']})\n",
        "\n",
        "# Add CPDs to the model\n",
        "bn_model.add_cpds(cpd_weather, cpd_traffic, cpd_punctuality)\n",
        "assert bn_model.check_model(), \"Model validation failed!\"\n",
        "print(\"Bayesian Network is valid!\")"
      ],
      "metadata": {
        "colab": {
          "base_uri": "https://localhost:8080/"
        },
        "id": "clKcoN-eO1MK",
        "outputId": "e3300156-5c00-452d-9241-2b3ea9855692"
      },
      "execution_count": 5,
      "outputs": [
        {
          "output_type": "stream",
          "name": "stdout",
          "text": [
            "Bayesian Network is valid!\n"
          ]
        }
      ]
    },
    {
      "cell_type": "code",
      "source": [
        "# Step 4: Query the model\n",
        "inference_engine = VariableElimination(bn_model)\n",
        "result = inference_engine.query(variables=['Punctuality'], evidence={'Weather': 'Rainy'})\n",
        "\n",
        "# Interpretation of query results\n",
        "result_text = (\n",
        "    f\"Given Rainy Weather:\\n\"\n",
        "    f\"- P(On Time): {result.values[0]:.2f}\\n\"\n",
        "    f\"- P(Late): {result.values[1]:.2f}\\n\"\n",
        ")\n",
        "print(result_text)"
      ],
      "metadata": {
        "colab": {
          "base_uri": "https://localhost:8080/"
        },
        "id": "JbrdcZhYO5vX",
        "outputId": "01b9404e-fdec-4285-82d8-b2327c9713a1"
      },
      "execution_count": 6,
      "outputs": [
        {
          "output_type": "stream",
          "name": "stdout",
          "text": [
            "Given Rainy Weather:\n",
            "- P(On Time): 0.50\n",
            "- P(Late): 0.50\n",
            "\n"
          ]
        }
      ]
    },
    {
      "cell_type": "code",
      "source": [
        "# Step 5: Simulate Dataset\n",
        "np.random.seed(42)\n",
        "def simulate_data(n=1000):\n",
        "    weather_choices = ['Sunny', 'Rainy']\n",
        "    traffic_choices = {'Sunny': ['Light', 'Heavy'], 'Rainy': ['Light', 'Heavy']}\n",
        "    punctuality_choices = {'Light': ['On Time', 'Late'], 'Heavy': ['On Time', 'Late']}\n",
        "\n",
        "    weather_probs = [0.7, 0.3]\n",
        "    traffic_probs = {'Sunny': [0.75, 0.25], 'Rainy': [0.2, 0.8]}\n",
        "    punctuality_probs = {'Light': [0.9, 0.1], 'Heavy': [0.4, 0.6]}\n",
        "\n",
        "    data = []\n",
        "    for _ in range(n):\n",
        "        weather = choices(weather_choices, weather_probs)[0]\n",
        "        traffic = choices(traffic_choices[weather], traffic_probs[weather])[0]\n",
        "        punctuality = choices(punctuality_choices[traffic], punctuality_probs[traffic])[0]\n",
        "        data.append([weather, traffic, punctuality])\n",
        "    return pd.DataFrame(data, columns=['Weather', 'Traffic', 'Punctuality'])\n",
        "\n",
        "simulated_data = simulate_data()\n",
        "print(\"Dataset preview:\\n\", simulated_data.head())"
      ],
      "metadata": {
        "colab": {
          "base_uri": "https://localhost:8080/"
        },
        "id": "PMN4yvp8O7gn",
        "outputId": "2b217ebc-65d9-42e6-f1d0-e31ef5ff2281"
      },
      "execution_count": 7,
      "outputs": [
        {
          "output_type": "stream",
          "name": "stdout",
          "text": [
            "Dataset preview:\n",
            "   Weather Traffic Punctuality\n",
            "0   Rainy   Heavy        Late\n",
            "1   Sunny   Light     On Time\n",
            "2   Rainy   Heavy     On Time\n",
            "3   Rainy   Light     On Time\n",
            "4   Sunny   Heavy        Late\n"
          ]
        }
      ]
    },
    {
      "cell_type": "code",
      "source": [
        "# Step 6: Parameter Learning\n",
        "mle_estimator = MaximumLikelihoodEstimator(bn_model, simulated_data)\n",
        "learned_cpd_traffic = mle_estimator.estimate_cpd('Traffic')\n",
        "learned_cpd_punctuality = mle_estimator.estimate_cpd('Punctuality')\n",
        "\n",
        "# Print comparisons\n",
        "print(\"Learned CPD for Traffic:\\n\", learned_cpd_traffic)\n",
        "print(\"Learned CPD for Punctuality:\\n\", learned_cpd_punctuality)\n"
      ],
      "metadata": {
        "colab": {
          "base_uri": "https://localhost:8080/"
        },
        "id": "XE4sprRqO9U9",
        "outputId": "16431f8c-ab52-4824-d9e8-866528340264"
      },
      "execution_count": 8,
      "outputs": [
        {
          "output_type": "stream",
          "name": "stdout",
          "text": [
            "Learned CPD for Traffic:\n",
            " +----------------+--------------------+--------------------+\n",
            "| Weather        | Weather(Rainy)     | Weather(Sunny)     |\n",
            "+----------------+--------------------+--------------------+\n",
            "| Traffic(Heavy) | 0.8057324840764332 | 0.2784256559766764 |\n",
            "+----------------+--------------------+--------------------+\n",
            "| Traffic(Light) | 0.1942675159235669 | 0.7215743440233237 |\n",
            "+----------------+--------------------+--------------------+\n",
            "Learned CPD for Punctuality:\n",
            " +----------------------+--------------------+---------------------+\n",
            "| Traffic              | Traffic(Heavy)     | Traffic(Light)      |\n",
            "+----------------------+--------------------+---------------------+\n",
            "| Punctuality(Late)    | 0.6509009009009009 | 0.08273381294964029 |\n",
            "+----------------------+--------------------+---------------------+\n",
            "| Punctuality(On Time) | 0.3490990990990991 | 0.9172661870503597  |\n",
            "+----------------------+--------------------+---------------------+\n"
          ]
        }
      ]
    },
    {
      "cell_type": "code",
      "source": [
        "# Exercise 7: Enhanced Bayesian Network Visualization\n",
        "\n",
        "# Function to visualize Bayesian Network with custom node and edge colors\n",
        "def plot_bn(model, node_colors=None, edge_colors=None):\n",
        "    import matplotlib.pyplot as plt\n",
        "    import networkx as nx\n",
        "\n",
        "    # Create directed graph\n",
        "    G = nx.DiGraph()\n",
        "    G.add_edges_from(model.edges())\n",
        "\n",
        "    # Setup colors\n",
        "    default_node_color = '#ADD8E6'\n",
        "    default_edge_color = '#808080'\n",
        "\n",
        "    node_colors = node_colors if node_colors else [default_node_color] * len(G.nodes())\n",
        "    edge_colors = edge_colors if edge_colors else [default_edge_color] * len(G.edges())\n",
        "\n",
        "    # Check for any mismatches in lengths\n",
        "    if len(node_colors) < len(G.nodes()):\n",
        "        node_colors.extend([default_node_color] * (len(G.nodes()) - len(node_colors)))\n",
        "    if len(edge_colors) < len(G.edges()):\n",
        "        edge_colors.extend([default_edge_color] * (len(G.edges()) - len(edge_colors)))\n",
        "\n",
        "    # Set up the plot\n",
        "    plt.figure(figsize=(10, 7))\n",
        "    pos = nx.spring_layout(G)\n",
        "\n",
        "    # Draw nodes\n",
        "    nx.draw_networkx_nodes(G, pos, node_color=node_colors, node_size=3000, alpha=0.8)\n",
        "    nx.draw_networkx_labels(G, pos, font_size=16, font_weight='bold')\n",
        "\n",
        "    # Draw edges\n",
        "    nx.draw_networkx_edges(G, pos, edge_color=edge_colors, arrows=True, arrowsize=30)\n",
        "\n",
        "    # Add title\n",
        "    plt.title(\"Bayesian Network Structure\", fontsize=20, fontweight='bold')\n",
        "\n",
        "    # Remove axis\n",
        "    plt.axis('off')\n",
        "\n",
        "    # Show plot\n",
        "    plt.tight_layout()\n",
        "    plt.show()\n",
        "\n",
        "# Visualize the Bayesian Network\n",
        "node_color_map = ['#FFB6C1', '#ADD8E6', '#90EE90']\n",
        "edge_color_map = ['#808080']\n",
        "plot_bn(bn_model, node_colors=node_color_map, edge_colors=edge_color_map)\n"
      ],
      "metadata": {
        "colab": {
          "base_uri": "https://localhost:8080/",
          "height": 707
        },
        "id": "nKpa28sgO_cp",
        "outputId": "99706e67-0ba3-47e4-8abf-b53e63c81fde"
      },
      "execution_count": 15,
      "outputs": [
        {
          "output_type": "display_data",
          "data": {
            "text/plain": [
              "<Figure size 1000x700 with 1 Axes>"
            ],
            "image/png": "[encoded data removed]"
          },
          "metadata": {}
        }
      ]
    }
  ]
}